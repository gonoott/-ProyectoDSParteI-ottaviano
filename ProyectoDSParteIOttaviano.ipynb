{
 "cells": [
  {
   "cell_type": "code",
   "execution_count": 7,
   "id": "fa265198-2818-4f43-8227-3851c68cee88",
   "metadata": {},
   "outputs": [],
   "source": [
    "import pandas as pd\n",
    "\n",
    "file_path = (\"C:\\\\Users\\\\gonza\\\\Desktop\\\\coder\\\\constructor_standings.csv\")\n"
   ]
  },
  {
   "cell_type": "code",
   "execution_count": 15,
   "id": "ab4f30da-d434-40e5-913b-552dca52e906",
   "metadata": {},
   "outputs": [],
   "source": [
    "constructor_standings = pd.read_csv(file_path)"
   ]
  },
  {
   "cell_type": "code",
   "execution_count": 15,
   "id": "a2d23e61",
   "metadata": {},
   "outputs": [],
   "source": [
    "constructor_standings = pd.read_csv(file_path)"
   ]
  },
  {
   "cell_type": "code",
   "execution_count": 17,
   "id": "d8527735-8615-4d23-b28e-88d37c2134d6",
   "metadata": {},
   "outputs": [
    {
     "data": {
      "text/html": [
       "<div>\n",
       "<style scoped>\n",
       "    .dataframe tbody tr th:only-of-type {\n",
       "        vertical-align: middle;\n",
       "    }\n",
       "\n",
       "    .dataframe tbody tr th {\n",
       "        vertical-align: top;\n",
       "    }\n",
       "\n",
       "    .dataframe thead th {\n",
       "        text-align: right;\n",
       "    }\n",
       "</style>\n",
       "<table border=\"1\" class=\"dataframe\">\n",
       "  <thead>\n",
       "    <tr style=\"text-align: right;\">\n",
       "      <th></th>\n",
       "      <th>constructorStandingsId</th>\n",
       "      <th>raceId</th>\n",
       "      <th>constructorId</th>\n",
       "      <th>points</th>\n",
       "      <th>position</th>\n",
       "      <th>positionText</th>\n",
       "      <th>wins</th>\n",
       "    </tr>\n",
       "  </thead>\n",
       "  <tbody>\n",
       "    <tr>\n",
       "      <th>0</th>\n",
       "      <td>1</td>\n",
       "      <td>18</td>\n",
       "      <td>1</td>\n",
       "      <td>14.0</td>\n",
       "      <td>1</td>\n",
       "      <td>1</td>\n",
       "      <td>1</td>\n",
       "    </tr>\n",
       "    <tr>\n",
       "      <th>1</th>\n",
       "      <td>2</td>\n",
       "      <td>18</td>\n",
       "      <td>2</td>\n",
       "      <td>8.0</td>\n",
       "      <td>3</td>\n",
       "      <td>3</td>\n",
       "      <td>0</td>\n",
       "    </tr>\n",
       "    <tr>\n",
       "      <th>2</th>\n",
       "      <td>3</td>\n",
       "      <td>18</td>\n",
       "      <td>3</td>\n",
       "      <td>9.0</td>\n",
       "      <td>2</td>\n",
       "      <td>2</td>\n",
       "      <td>0</td>\n",
       "    </tr>\n",
       "    <tr>\n",
       "      <th>3</th>\n",
       "      <td>4</td>\n",
       "      <td>18</td>\n",
       "      <td>4</td>\n",
       "      <td>5.0</td>\n",
       "      <td>4</td>\n",
       "      <td>4</td>\n",
       "      <td>0</td>\n",
       "    </tr>\n",
       "    <tr>\n",
       "      <th>4</th>\n",
       "      <td>5</td>\n",
       "      <td>18</td>\n",
       "      <td>5</td>\n",
       "      <td>2.0</td>\n",
       "      <td>5</td>\n",
       "      <td>5</td>\n",
       "      <td>0</td>\n",
       "    </tr>\n",
       "  </tbody>\n",
       "</table>\n",
       "</div>"
      ],
      "text/plain": [
       "   constructorStandingsId  raceId  constructorId  points  position  \\\n",
       "0                       1      18              1    14.0         1   \n",
       "1                       2      18              2     8.0         3   \n",
       "2                       3      18              3     9.0         2   \n",
       "3                       4      18              4     5.0         4   \n",
       "4                       5      18              5     2.0         5   \n",
       "\n",
       "  positionText  wins  \n",
       "0            1     1  \n",
       "1            3     0  \n",
       "2            2     0  \n",
       "3            4     0  \n",
       "4            5     0  "
      ]
     },
     "metadata": {},
     "output_type": "display_data"
    }
   ],
   "source": [
    "display(constructor_standings.head())"
   ]
  },
  {
   "cell_type": "code",
   "execution_count": 29,
   "id": "b7e6b530-fede-4f90-af4c-e4ec117e9ddc",
   "metadata": {},
   "outputs": [],
   "source": [
    "data = pd.read_csv((\"C:\\\\Users\\\\gonza\\\\Desktop\\\\coder\\\\constructor_standings.csv\"))"
   ]
  },
  {
   "cell_type": "code",
   "execution_count": 31,
   "id": "7e6547f6-d6cd-4f56-a717-f7e8e69876b1",
   "metadata": {},
   "outputs": [
    {
     "name": "stdout",
     "output_type": "stream",
     "text": [
      "constructorStandingsId    0\n",
      "raceId                    0\n",
      "constructorId             0\n",
      "points                    0\n",
      "position                  0\n",
      "positionText              0\n",
      "wins                      0\n",
      "dtype: int64\n"
     ]
    }
   ],
   "source": [
    "print(data.isnull().sum())"
   ]
  },
  {
   "cell_type": "code",
   "execution_count": 33,
   "id": "a6a4f4eb-c78e-46a5-8170-8e4e03168706",
   "metadata": {},
   "outputs": [
    {
     "name": "stdout",
     "output_type": "stream",
     "text": [
      "       constructorStandingsId        raceId  constructorId        points  \\\n",
      "count            13391.000000  13391.000000   13391.000000  13391.000000   \n",
      "mean             16982.110821    535.399821      49.603390     37.178515   \n",
      "std               8868.446172    307.705928      61.213953     84.346048   \n",
      "min                  1.000000      1.000000       1.000000      0.000000   \n",
      "25%               8883.500000    302.000000       6.000000      0.000000   \n",
      "50%              20634.000000    508.000000      25.000000      7.000000   \n",
      "75%              25047.500000    740.000000      58.000000     33.000000   \n",
      "max              28982.000000   1144.000000     215.000000    860.000000   \n",
      "\n",
      "           position          wins  \n",
      "count  13391.000000  13391.000000  \n",
      "mean       7.226047      0.697409  \n",
      "std        4.355923      1.879569  \n",
      "min        1.000000      0.000000  \n",
      "25%        4.000000      0.000000  \n",
      "50%        7.000000      0.000000  \n",
      "75%       10.000000      0.000000  \n",
      "max       22.000000     21.000000  \n"
     ]
    }
   ],
   "source": [
    "print(data.describe())"
   ]
  },
  {
   "cell_type": "code",
   "execution_count": 39,
   "id": "6417fa44-6a56-4ce1-9ad6-a3ea777d49d6",
   "metadata": {},
   "outputs": [],
   "source": [
    "constructors_standings = pd.read_csv(\"C:\\\\Users\\\\gonza\\\\Desktop\\\\coder\\\\constructor_standings.csv\")"
   ]
  },
  {
   "cell_type": "code",
   "execution_count": 41,
   "id": "155bbafd-c43e-4157-9d36-2f96a7131e85",
   "metadata": {},
   "outputs": [
    {
     "name": "stdout",
     "output_type": "stream",
     "text": [
      "<class 'pandas.core.frame.DataFrame'>\n",
      "RangeIndex: 13391 entries, 0 to 13390\n",
      "Data columns (total 7 columns):\n",
      " #   Column                  Non-Null Count  Dtype  \n",
      "---  ------                  --------------  -----  \n",
      " 0   constructorStandingsId  13391 non-null  int64  \n",
      " 1   raceId                  13391 non-null  int64  \n",
      " 2   constructorId           13391 non-null  int64  \n",
      " 3   points                  13391 non-null  float64\n",
      " 4   position                13391 non-null  int64  \n",
      " 5   positionText            13391 non-null  object \n",
      " 6   wins                    13391 non-null  int64  \n",
      "dtypes: float64(1), int64(5), object(1)\n",
      "memory usage: 732.4+ KB\n",
      "None\n"
     ]
    }
   ],
   "source": [
    "print(constructors_standings.info())\n"
   ]
  },
  {
   "cell_type": "code",
   "execution_count": 46,
   "id": "e7ccaf52-a7af-4ef7-98e8-789bd99c9924",
   "metadata": {},
   "outputs": [
    {
     "name": "stdout",
     "output_type": "stream",
     "text": [
      "Análisis de la columna: constructorStandingsId\n",
      "Análisis de la columna: raceId\n",
      "Análisis de la columna: constructorId\n",
      "Análisis de la columna: points\n",
      "Análisis de la columna: position\n",
      "Análisis de la columna: positionText\n",
      "Análisis de la columna: wins\n"
     ]
    }
   ],
   "source": [
    "for column in constructors_standings.columns:\n",
    "    print(f\"Análisis de la columna: {column}\")"
   ]
  },
  {
   "cell_type": "code",
   "execution_count": 50,
   "id": "ac3b6d3e-6139-4812-99d9-ae68e6c6269d",
   "metadata": {},
   "outputs": [
    {
     "name": "stdout",
     "output_type": "stream",
     "text": [
      "Estadísticas descriptivas:\n",
      "       constructorStandingsId        raceId  constructorId        points  \\\n",
      "count            13391.000000  13391.000000   13391.000000  13391.000000   \n",
      "mean             16982.110821    535.399821      49.603390     37.178515   \n",
      "std               8868.446172    307.705928      61.213953     84.346048   \n",
      "min                  1.000000      1.000000       1.000000      0.000000   \n",
      "25%               8883.500000    302.000000       6.000000      0.000000   \n",
      "50%              20634.000000    508.000000      25.000000      7.000000   \n",
      "75%              25047.500000    740.000000      58.000000     33.000000   \n",
      "max              28982.000000   1144.000000     215.000000    860.000000   \n",
      "\n",
      "           position          wins  \n",
      "count  13391.000000  13391.000000  \n",
      "mean       7.226047      0.697409  \n",
      "std        4.355923      1.879569  \n",
      "min        1.000000      0.000000  \n",
      "25%        4.000000      0.000000  \n",
      "50%        7.000000      0.000000  \n",
      "75%       10.000000      0.000000  \n",
      "max       22.000000     21.000000  \n",
      "\n",
      "\n"
     ]
    }
   ],
   "source": [
    "print(\"Estadísticas descriptivas:\")\n",
    "print(constructors_standings.describe())\n",
    "print(\"\\n\")"
   ]
  },
  {
   "cell_type": "code",
   "execution_count": 52,
   "id": "f4a6ae63-91c2-4f7b-90ce-e442688e6cb5",
   "metadata": {},
   "outputs": [
    {
     "name": "stdout",
     "output_type": "stream",
     "text": [
      "constructorStandingsId    0\n",
      "raceId                    0\n",
      "constructorId             0\n",
      "points                    0\n",
      "position                  0\n",
      "positionText              0\n",
      "wins                      0\n",
      "dtype: int64\n"
     ]
    }
   ],
   "source": [
    "\n",
    "print(constructors_standings.isnull().sum())\n"
   ]
  },
  {
   "cell_type": "code",
   "execution_count": 58,
   "id": "d75fb1b4-d786-4514-817f-2f54dc0093d0",
   "metadata": {},
   "outputs": [],
   "source": [
    " # Análisis del Rendimiento de los Equipos de Fórmula 1 a lo Largo de las Temporadas (1950-2020)\n",
    "# \n",
    "# **Resumen:**\n",
    "# \n",
    "# El presente proyecto tiene como objetivo analizar algunas variables de las escuderias de la formula 1 y como fue evolucionando a lo largo del timpo"
   ]
  },
  {
   "cell_type": "code",
   "execution_count": null,
   "id": "8640033a-851f-4ba8-af3f-50c2b88b60ab",
   "metadata": {},
   "outputs": [],
   "source": []
  }
 ],
 "metadata": {
  "kernelspec": {
   "display_name": "Python [conda env:base] *",
   "language": "python",
   "name": "conda-base-py"
  },
  "language_info": {
   "codemirror_mode": {
    "name": "ipython",
    "version": 3
   },
   "file_extension": ".py",
   "mimetype": "text/x-python",
   "name": "python",
   "nbconvert_exporter": "python",
   "pygments_lexer": "ipython3",
   "version": "3.12.7"
  }
 },
 "nbformat": 4,
 "nbformat_minor": 5
}
